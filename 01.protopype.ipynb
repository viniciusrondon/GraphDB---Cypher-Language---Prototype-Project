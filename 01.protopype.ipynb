{
 "cells": [
  {
   "cell_type": "markdown",
   "id": "76ab89a9",
   "metadata": {},
   "source": [
    "# Q&A Agent With Graph DB\n",
    "\n",
    "Building a Question and Answering application over a Graph Database"
   ]
  },
  {
   "cell_type": "markdown",
   "id": "45ccc490",
   "metadata": {},
   "source": [
    "# Setup "
   ]
  },
  {
   "cell_type": "code",
   "execution_count": null,
   "id": "8c7452f0",
   "metadata": {},
   "outputs": [],
   "source": [
    "from dotenv import load_dotenv\n",
    "import os\n",
    "\n",
    "load_dotenv()\n",
    "\n",
    "## Openai\n",
    "os.environ[\"OPENAI_API_KEY\"] = os.getenv(\"OPENAI_API_KEY\")\n",
    "\n",
    "\n",
    "# Nvidia\n",
    "os.environ[\"NVIDIA_API_KEY\"] = os.getenv(\"NVIDIA_API_KEY\")\n",
    "\n",
    "## langsmith tracking\n",
    "os.environ[\"LANGCHAIN_API_KEY\"] = os.getenv(\"LANGCHAIN_API_KEY\")\n",
    "os.environ[\"LANGCHAIN_TRACING_V2\"] = \"true\"\n",
    "os.environ[\"LANGCHAIN_PROJECT\"] = os.getenv(\"LANGCHAIN_PROJECT\")\n",
    "\n",
    "## Huggingface\n",
    "os.environ[\"HF_TOKEN\"] = os.getenv(\"HF_TOKEN\")\n",
    "\n",
    "## Neo4j\n",
    "os.environ[\"NEO4J_URI\"] = os.getenv(\"NEO4J_URI\")\n",
    "os.environ[\"NEO4J_USERNAME\"] = os.getenv(\"NEO4J_USERNAME\")\n",
    "os.environ[\"NEO4J_PASSWORD\"] = os.getenv(\"NEO4J_PASSWORD\")\n"
   ]
  },
  {
   "cell_type": "code",
   "execution_count": 7,
   "id": "14eb5a60",
   "metadata": {},
   "outputs": [],
   "source": [
    "from langchain_community.graphs import Neo4jGraph\n",
    "\n",
    "graph = Neo4jGraph(\n",
    "    url=os.environ[\"NEO4J_URI\"],\n",
    "    username=os.environ[\"NEO4J_USERNAME\"],\n",
    "    password=os.environ[\"NEO4J_PASSWORD\"],\n",
    ")"
   ]
  },
  {
   "cell_type": "markdown",
   "id": "a13750a2",
   "metadata": {},
   "source": [
    "## Import dataset\n",
    "\n",
    "I woul like to cite and thanks [Tomaz Bratanic](https://github.com/tomasonjo) -- Graph ML and GenAI research at Neo4j -- to provide your public [datasets](https://github.com/tomasonjo/blog-datasets)."
   ]
  },
  {
   "cell_type": "code",
   "execution_count": 12,
   "id": "b8f12024",
   "metadata": {},
   "outputs": [],
   "source": [
    "## Dataset Movie reviews\n",
    "\n",
    "movie_query = \"\"\"\n",
    "LOAD CSV WITH HEADERS FROM 'https://raw.githubusercontent.com/tomasonjo/blog-datasets/main/movies/movies_small.csv' AS row\n",
    "\n",
    "MERGE (m:Movie{movieId: toInteger(row.movieId)})\n",
    "SET m.title = row.title,\n",
    "    m.release = datetime(row.release),\n",
    "    m.imdbRating = toFloat(row.imdbRating)\n",
    "\n",
    "FOREACH (director IN split(row.director, '|') |\n",
    "    MERGE (d:Director{name: trim(director)})\n",
    "    MERGE (m)-[:DIRECTED_BY]->(d)\n",
    "    MERGE (d)-[:DIRECTOR_OF]->(m)\n",
    ")\n",
    "\n",
    "FOREACH (actor IN split(row.actors, '|') |\n",
    "    MERGE (a:Actor{name: trim(actor)})\n",
    "    MERGE (a)-[:ACTOR_OF]->(m)\n",
    "    MERGE (m)-[:HAS_ACTOR]->(a)\n",
    ")\n",
    "\n",
    "FOREACH (genre IN split(row.genres, '|') |\n",
    "    MERGE (g:Genre{name: trim(genre)})\n",
    "    MERGE (m)-[:HAS_GENRE]->(g)\n",
    "    MERGE (g)-[:GENRE_OF]->(m)\n",
    ")\n",
    "\"\"\"\n"
   ]
  },
  {
   "cell_type": "code",
   "execution_count": 13,
   "id": "b5bf263e",
   "metadata": {},
   "outputs": [
    {
     "name": "stderr",
     "output_type": "stream",
     "text": [
      "Failed to read from defunct connection IPv4Address(('si-01de3140-caed.production-orch-0696.neo4j.io', 7687)) (ResolvedIPv4Address(('34.28.184.63', 7687)))\n"
     ]
    },
    {
     "data": {
      "text/plain": [
       "[]"
      ]
     },
     "execution_count": 13,
     "metadata": {},
     "output_type": "execute_result"
    }
   ],
   "source": [
    "graph.query(movie_query)"
   ]
  },
  {
   "cell_type": "markdown",
   "id": "721ffd9c",
   "metadata": {},
   "source": [
    "#### 📊 **Gaph Relatioship Illustration of `ACTOR_OF`:**\n",
    "\n",
    "![Relação ACTOR_OF](image/actor_of.png)\n"
   ]
  },
  {
   "cell_type": "markdown",
   "id": "d126a56d",
   "metadata": {},
   "source": [
    "#### 📊 **Gaph Relatioship Illustration of `HAS_GENRE`:**\n",
    "\n",
    "![Relação ACTOR_OF](image/genre.png)"
   ]
  },
  {
   "cell_type": "code",
   "execution_count": 15,
   "id": "642c3fa2",
   "metadata": {},
   "outputs": [
    {
     "name": "stderr",
     "output_type": "stream",
     "text": [
      "Failed to read from defunct connection IPv4Address(('si-01de3140-caed.production-orch-0696.neo4j.io', 7687)) (ResolvedIPv4Address(('34.28.184.63', 7687)))\n"
     ]
    },
    {
     "name": "stdout",
     "output_type": "stream",
     "text": [
      "Node properties:\n",
      "CEO {name: STRING, POB: STRING, YOB: INTEGER}\n",
      "Company {name: STRING}\n",
      "User {name: STRING, city: STRING, userId: INTEGER, age: INTEGER}\n",
      "Post {userId: INTEGER}\n",
      "Movie {movieId: INTEGER, title: STRING, imdbRating: FLOAT}\n",
      "Director {name: STRING}\n",
      "Actor {name: STRING}\n",
      "Genre {name: STRING}\n",
      "Relationship properties:\n",
      "\n",
      "The relationships:\n",
      "(:CEO)-[:CEO]->(:Company)\n",
      "(:User)-[:POSTED]->(:Post)\n",
      "(:User)-[:FRIEND]->(:User)\n",
      "(:User)-[:LIKES]->(:User)\n",
      "(:Movie)-[:DIRECTED_BY]->(:Director)\n",
      "(:Movie)-[:HAS_ACTOR]->(:Actor)\n",
      "(:Movie)-[:HAS_GENRE]->(:Genre)\n",
      "(:Director)-[:DIRECTOR_OF]->(:Movie)\n",
      "(:Actor)-[:ACTOR_OF]->(:Movie)\n",
      "(:Genre)-[:GENRE_OF]->(:Movie)\n"
     ]
    }
   ],
   "source": [
    "graph.refresh_schema()\n",
    "print(graph.schema)"
   ]
  },
  {
   "cell_type": "code",
   "execution_count": null,
   "id": "c5049f93",
   "metadata": {},
   "outputs": [],
   "source": []
  },
  {
   "cell_type": "code",
   "execution_count": null,
   "id": "9009795e",
   "metadata": {},
   "outputs": [],
   "source": []
  },
  {
   "cell_type": "code",
   "execution_count": null,
   "id": "01f38c4d",
   "metadata": {},
   "outputs": [],
   "source": []
  },
  {
   "cell_type": "code",
   "execution_count": null,
   "id": "8fe3cf6d",
   "metadata": {},
   "outputs": [],
   "source": []
  },
  {
   "cell_type": "code",
   "execution_count": null,
   "id": "2e0d1dd9",
   "metadata": {},
   "outputs": [],
   "source": []
  }
 ],
 "metadata": {
  "kernelspec": {
   "display_name": ".venv",
   "language": "python",
   "name": "python3"
  },
  "language_info": {
   "codemirror_mode": {
    "name": "ipython",
    "version": 3
   },
   "file_extension": ".py",
   "mimetype": "text/x-python",
   "name": "python",
   "nbconvert_exporter": "python",
   "pygments_lexer": "ipython3",
   "version": "3.10.12"
  }
 },
 "nbformat": 4,
 "nbformat_minor": 5
}
